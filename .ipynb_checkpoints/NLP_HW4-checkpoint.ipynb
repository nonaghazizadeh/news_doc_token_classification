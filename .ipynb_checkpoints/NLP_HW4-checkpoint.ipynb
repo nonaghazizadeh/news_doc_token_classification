{
 "cells": [
  {
   "cell_type": "markdown",
   "metadata": {
    "id": "4htvPk6d-5cl"
   },
   "source": [
    "# <strong><font color=#A52A2A></span> NLP_HW4 </strong>\n",
    "Dr Asgari - Spring 2023\n",
    "<br>\n",
    "98101566 -> Mohammadreza Daviran\n",
    "<br>\n",
    "98170668 -> Sara Azarnoush\n",
    "<br>\n",
    "98171007 -> Nona Ghazizadeh\n",
    "<br>\n"
   ]
  },
  {
   "cell_type": "markdown",
   "metadata": {
    "id": "MULgaY46kxb0"
   },
   "source": [
    "# Requirements"
   ]
  },
  {
   "cell_type": "code",
   "execution_count": 23,
   "metadata": {
    "colab": {
     "base_uri": "https://localhost:8080/"
    },
    "id": "bO3sFhu9XlKR",
    "outputId": "4ae753b5-29da-4ca8-b977-304fc790591c"
   },
   "outputs": [
    {
     "name": "stdout",
     "output_type": "stream",
     "text": [
      "Requirement already satisfied: tqdm in /Users/nonaghazizadeh/opt/anaconda3/lib/python3.9/site-packages (4.64.0)\n",
      "Requirement already satisfied: gdown in /Users/nonaghazizadeh/opt/anaconda3/lib/python3.9/site-packages (4.7.1)\n",
      "Requirement already satisfied: requests[socks] in /Users/nonaghazizadeh/opt/anaconda3/lib/python3.9/site-packages (from gdown) (2.27.1)\n",
      "Requirement already satisfied: beautifulsoup4 in /Users/nonaghazizadeh/opt/anaconda3/lib/python3.9/site-packages (from gdown) (4.11.1)\n",
      "Requirement already satisfied: six in /Users/nonaghazizadeh/opt/anaconda3/lib/python3.9/site-packages (from gdown) (1.15.0)\n",
      "Requirement already satisfied: filelock in /Users/nonaghazizadeh/opt/anaconda3/lib/python3.9/site-packages (from gdown) (3.6.0)\n",
      "Requirement already satisfied: tqdm in /Users/nonaghazizadeh/opt/anaconda3/lib/python3.9/site-packages (from gdown) (4.64.0)\n",
      "Requirement already satisfied: soupsieve>1.2 in /Users/nonaghazizadeh/opt/anaconda3/lib/python3.9/site-packages (from beautifulsoup4->gdown) (2.3.1)\n",
      "Requirement already satisfied: idna<4,>=2.5 in /Users/nonaghazizadeh/opt/anaconda3/lib/python3.9/site-packages (from requests[socks]->gdown) (3.3)\n",
      "Requirement already satisfied: urllib3<1.27,>=1.21.1 in /Users/nonaghazizadeh/opt/anaconda3/lib/python3.9/site-packages (from requests[socks]->gdown) (1.26.9)\n",
      "Requirement already satisfied: charset-normalizer~=2.0.0 in /Users/nonaghazizadeh/opt/anaconda3/lib/python3.9/site-packages (from requests[socks]->gdown) (2.0.4)\n",
      "Requirement already satisfied: certifi>=2017.4.17 in /Users/nonaghazizadeh/opt/anaconda3/lib/python3.9/site-packages (from requests[socks]->gdown) (2021.10.8)\n",
      "Requirement already satisfied: PySocks!=1.5.7,>=1.5.6 in /Users/nonaghazizadeh/opt/anaconda3/lib/python3.9/site-packages (from requests[socks]->gdown) (1.7.1)\n",
      "Requirement already satisfied: pandas in /Users/nonaghazizadeh/opt/anaconda3/lib/python3.9/site-packages (1.4.2)\n",
      "Requirement already satisfied: python-dateutil>=2.8.1 in /Users/nonaghazizadeh/opt/anaconda3/lib/python3.9/site-packages (from pandas) (2.8.2)\n",
      "Requirement already satisfied: pytz>=2020.1 in /Users/nonaghazizadeh/opt/anaconda3/lib/python3.9/site-packages (from pandas) (2021.3)\n",
      "Requirement already satisfied: numpy>=1.18.5 in /Users/nonaghazizadeh/opt/anaconda3/lib/python3.9/site-packages (from pandas) (1.19.5)\n",
      "Requirement already satisfied: six>=1.5 in /Users/nonaghazizadeh/opt/anaconda3/lib/python3.9/site-packages (from python-dateutil>=2.8.1->pandas) (1.15.0)\n",
      "Requirement already satisfied: hazm in /Users/nonaghazizadeh/opt/anaconda3/lib/python3.9/site-packages (0.7.0)\n",
      "Requirement already satisfied: libwapiti>=0.2.1 in /Users/nonaghazizadeh/opt/anaconda3/lib/python3.9/site-packages (from hazm) (0.2.1)\n",
      "Requirement already satisfied: nltk==3.3 in /Users/nonaghazizadeh/opt/anaconda3/lib/python3.9/site-packages (from hazm) (3.3)\n",
      "Requirement already satisfied: six in /Users/nonaghazizadeh/opt/anaconda3/lib/python3.9/site-packages (from nltk==3.3->hazm) (1.15.0)\n"
     ]
    }
   ],
   "source": [
    "! pip install tqdm\n",
    "! pip install gdown\n",
    "! pip install pandas\n",
    "! pip install hazm"
   ]
  },
  {
   "cell_type": "code",
   "execution_count": 24,
   "metadata": {
    "id": "zDGn7Ib6Xmtk"
   },
   "outputs": [],
   "source": [
    "import gdown\n",
    "import pandas as pd\n",
    "from tabulate import tabulate\n",
    "import re\n",
    "import hazm\n",
    "from string import punctuation\n",
    "from tqdm import tqdm\n",
    "import json\n",
    "from sklearn.feature_extraction.text import TfidfVectorizer"
   ]
  },
  {
   "cell_type": "markdown",
   "metadata": {
    "id": "sXS8JKaVUazE"
   },
   "source": [
    "# Load dataset and prepare"
   ]
  },
  {
   "cell_type": "code",
   "execution_count": 3,
   "metadata": {
    "colab": {
     "base_uri": "https://localhost:8080/",
     "height": 108
    },
    "id": "FAYT3p1N-pnK",
    "outputId": "999be42f-4b4c-4b28-a225-7e2cfea1b2b4"
   },
   "outputs": [],
   "source": [
    "# url = \"https://drive.google.com/uc?id=1plKSDX8vsTttbchrZYI3iC4YkE7wNbMs\"\n",
    "# output = \"persian_news.zip\"\n",
    "# gdown.download(url, output, quiet=False)"
   ]
  },
  {
   "cell_type": "code",
   "execution_count": 4,
   "metadata": {
    "colab": {
     "base_uri": "https://localhost:8080/"
    },
    "id": "sbtCcMVvgWMk",
    "outputId": "8c87be6d-1295-4c21-c79a-2877265fc686"
   },
   "outputs": [],
   "source": [
    "# !unzip /content/persian_news.zip"
   ]
  },
  {
   "cell_type": "code",
   "execution_count": 5,
   "metadata": {
    "id": "pSwr_K20lVk6"
   },
   "outputs": [],
   "source": [
    "def load_clean_dataset(path):\n",
    "    dataset = pd.read_csv(path, delimiter='\\t')\n",
    "    dataset = dataset.drop(dataset.columns[0], axis=1)\n",
    "    return dataset"
   ]
  },
  {
   "cell_type": "code",
   "execution_count": 6,
   "metadata": {
    "colab": {
     "base_uri": "https://localhost:8080/",
     "height": 423
    },
    "id": "G0MSMSy2i_qc",
    "outputId": "5097b76f-4731-4f3c-b09d-60258ea70d45"
   },
   "outputs": [
    {
     "data": {
      "text/html": [
       "<div>\n",
       "<style scoped>\n",
       "    .dataframe tbody tr th:only-of-type {\n",
       "        vertical-align: middle;\n",
       "    }\n",
       "\n",
       "    .dataframe tbody tr th {\n",
       "        vertical-align: top;\n",
       "    }\n",
       "\n",
       "    .dataframe thead th {\n",
       "        text-align: right;\n",
       "    }\n",
       "</style>\n",
       "<table border=\"1\" class=\"dataframe\">\n",
       "  <thead>\n",
       "    <tr style=\"text-align: right;\">\n",
       "      <th></th>\n",
       "      <th>content</th>\n",
       "      <th>label</th>\n",
       "      <th>label_id</th>\n",
       "    </tr>\n",
       "  </thead>\n",
       "  <tbody>\n",
       "    <tr>\n",
       "      <th>0</th>\n",
       "      <td>به گزارش خبرنگار حوزه بهداشت و درمان گروه علمی...</td>\n",
       "      <td>پزشکی</td>\n",
       "      <td>7</td>\n",
       "    </tr>\n",
       "    <tr>\n",
       "      <th>1</th>\n",
       "      <td>به گزارش خبرنگار فوتبال و فوتسال گروه ورزشی با...</td>\n",
       "      <td>ورزشی</td>\n",
       "      <td>6</td>\n",
       "    </tr>\n",
       "    <tr>\n",
       "      <th>2</th>\n",
       "      <td>بهروز اکرمی، در گفتگو با خبرنگار اجتماعی باشگا...</td>\n",
       "      <td>اجتماعی</td>\n",
       "      <td>0</td>\n",
       "    </tr>\n",
       "    <tr>\n",
       "      <th>3</th>\n",
       "      <td>به گزارش خبرنگار حوزه شهری گروه اجتماعی باشگاه...</td>\n",
       "      <td>اجتماعی</td>\n",
       "      <td>0</td>\n",
       "    </tr>\n",
       "    <tr>\n",
       "      <th>4</th>\n",
       "      <td>به گزارش باشگاه خبرنگاران و به نقل از روابط عم...</td>\n",
       "      <td>فرهنگی هنری</td>\n",
       "      <td>5</td>\n",
       "    </tr>\n",
       "    <tr>\n",
       "      <th>...</th>\n",
       "      <td>...</td>\n",
       "      <td>...</td>\n",
       "      <td>...</td>\n",
       "    </tr>\n",
       "    <tr>\n",
       "      <th>13309</th>\n",
       "      <td>به گزارش خبرنگار دولت باشگاه خبرنگاران رضا فرج...</td>\n",
       "      <td>سیاسی</td>\n",
       "      <td>3</td>\n",
       "    </tr>\n",
       "    <tr>\n",
       "      <th>13310</th>\n",
       "      <td>به گزارش خبرنگار اقتصادی باشگاه خبرنگاران، باز...</td>\n",
       "      <td>اقتصادی</td>\n",
       "      <td>1</td>\n",
       "    </tr>\n",
       "    <tr>\n",
       "      <th>13311</th>\n",
       "      <td>ایسوس همیشه سورپرایزهایی را برای کامپیوتکس کنا...</td>\n",
       "      <td>علمی فناوری</td>\n",
       "      <td>4</td>\n",
       "    </tr>\n",
       "    <tr>\n",
       "      <th>13312</th>\n",
       "      <td>به گزارش حوزه مجلس گروه سیاسی باشگاه خبرنگاران...</td>\n",
       "      <td>سیاسی</td>\n",
       "      <td>3</td>\n",
       "    </tr>\n",
       "    <tr>\n",
       "      <th>13313</th>\n",
       "      <td>به گزارش خبرنگار اقتصادی باشگاه خبرنگاران؛ در ...</td>\n",
       "      <td>اقتصادی</td>\n",
       "      <td>1</td>\n",
       "    </tr>\n",
       "  </tbody>\n",
       "</table>\n",
       "<p>13314 rows × 3 columns</p>\n",
       "</div>"
      ],
      "text/plain": [
       "                                                 content        label  \\\n",
       "0      به گزارش خبرنگار حوزه بهداشت و درمان گروه علمی...        پزشکی   \n",
       "1      به گزارش خبرنگار فوتبال و فوتسال گروه ورزشی با...        ورزشی   \n",
       "2      بهروز اکرمی، در گفتگو با خبرنگار اجتماعی باشگا...      اجتماعی   \n",
       "3      به گزارش خبرنگار حوزه شهری گروه اجتماعی باشگاه...      اجتماعی   \n",
       "4      به گزارش باشگاه خبرنگاران و به نقل از روابط عم...  فرهنگی هنری   \n",
       "...                                                  ...          ...   \n",
       "13309  به گزارش خبرنگار دولت باشگاه خبرنگاران رضا فرج...        سیاسی   \n",
       "13310  به گزارش خبرنگار اقتصادی باشگاه خبرنگاران، باز...      اقتصادی   \n",
       "13311  ایسوس همیشه سورپرایزهایی را برای کامپیوتکس کنا...  علمی فناوری   \n",
       "13312  به گزارش حوزه مجلس گروه سیاسی باشگاه خبرنگاران...        سیاسی   \n",
       "13313  به گزارش خبرنگار اقتصادی باشگاه خبرنگاران؛ در ...      اقتصادی   \n",
       "\n",
       "       label_id  \n",
       "0             7  \n",
       "1             6  \n",
       "2             0  \n",
       "3             0  \n",
       "4             5  \n",
       "...         ...  \n",
       "13309         3  \n",
       "13310         1  \n",
       "13311         4  \n",
       "13312         3  \n",
       "13313         1  \n",
       "\n",
       "[13314 rows x 3 columns]"
      ]
     },
     "execution_count": 6,
     "metadata": {},
     "output_type": "execute_result"
    }
   ],
   "source": [
    "train_dataset = load_clean_dataset('persian_news/train.csv')\n",
    "train_dataset"
   ]
  },
  {
   "cell_type": "code",
   "execution_count": 7,
   "metadata": {
    "colab": {
     "base_uri": "https://localhost:8080/",
     "height": 423
    },
    "id": "YSkZgw2Dlvt4",
    "outputId": "1b8410e7-6251-40fa-c680-4565e8b456d4"
   },
   "outputs": [
    {
     "data": {
      "text/html": [
       "<div>\n",
       "<style scoped>\n",
       "    .dataframe tbody tr th:only-of-type {\n",
       "        vertical-align: middle;\n",
       "    }\n",
       "\n",
       "    .dataframe tbody tr th {\n",
       "        vertical-align: top;\n",
       "    }\n",
       "\n",
       "    .dataframe thead th {\n",
       "        text-align: right;\n",
       "    }\n",
       "</style>\n",
       "<table border=\"1\" class=\"dataframe\">\n",
       "  <thead>\n",
       "    <tr style=\"text-align: right;\">\n",
       "      <th></th>\n",
       "      <th>content</th>\n",
       "      <th>label</th>\n",
       "      <th>label_id</th>\n",
       "    </tr>\n",
       "  </thead>\n",
       "  <tbody>\n",
       "    <tr>\n",
       "      <th>0</th>\n",
       "      <td>به گزارش حوزه بهداشت و درمان گروه علمی پزشکی ب...</td>\n",
       "      <td>پزشکی</td>\n",
       "      <td>7</td>\n",
       "    </tr>\n",
       "    <tr>\n",
       "      <th>1</th>\n",
       "      <td>به گزارش خبرنگار حوزه شهری گروه اجتماعی باشگاه...</td>\n",
       "      <td>اجتماعی</td>\n",
       "      <td>0</td>\n",
       "    </tr>\n",
       "    <tr>\n",
       "      <th>2</th>\n",
       "      <td>به گزارش گروه اجتماعی باشگاه خبرنگاران جوان، س...</td>\n",
       "      <td>اجتماعی</td>\n",
       "      <td>0</td>\n",
       "    </tr>\n",
       "    <tr>\n",
       "      <th>3</th>\n",
       "      <td>به گزارش گروه بین الملل باشگاه خبرنگاران به نق...</td>\n",
       "      <td>بین الملل</td>\n",
       "      <td>2</td>\n",
       "    </tr>\n",
       "    <tr>\n",
       "      <th>4</th>\n",
       "      <td>به گزارش خبرنگار راه و شهرسازی گروه اقتصادی با...</td>\n",
       "      <td>اقتصادی</td>\n",
       "      <td>1</td>\n",
       "    </tr>\n",
       "    <tr>\n",
       "      <th>...</th>\n",
       "      <td>...</td>\n",
       "      <td>...</td>\n",
       "      <td>...</td>\n",
       "    </tr>\n",
       "    <tr>\n",
       "      <th>1475</th>\n",
       "      <td>به گزارش خبرنگارکلینیک باشگاه خبرنگاران؛ کم خو...</td>\n",
       "      <td>پزشکی</td>\n",
       "      <td>7</td>\n",
       "    </tr>\n",
       "    <tr>\n",
       "      <th>1476</th>\n",
       "      <td>رضا قدیمی رئیس کمیته منابع انسانی ستاد اربعین ...</td>\n",
       "      <td>اجتماعی</td>\n",
       "      <td>0</td>\n",
       "    </tr>\n",
       "    <tr>\n",
       "      <th>1477</th>\n",
       "      <td>به گزارش خبرنگار گروه علمی و دانشگاهی خبرگزاری...</td>\n",
       "      <td>علمی فناوری</td>\n",
       "      <td>4</td>\n",
       "    </tr>\n",
       "    <tr>\n",
       "      <th>1478</th>\n",
       "      <td>به گزارش خبرنگار حوزه کلینیک گروه علمی پزشکی ب...</td>\n",
       "      <td>پزشکی</td>\n",
       "      <td>7</td>\n",
       "    </tr>\n",
       "    <tr>\n",
       "      <th>1479</th>\n",
       "      <td>به گزارش گروه اقتصادی باشگاه خبرنگاران به نقل ...</td>\n",
       "      <td>اقتصادی</td>\n",
       "      <td>1</td>\n",
       "    </tr>\n",
       "  </tbody>\n",
       "</table>\n",
       "<p>1480 rows × 3 columns</p>\n",
       "</div>"
      ],
      "text/plain": [
       "                                                content        label  label_id\n",
       "0     به گزارش حوزه بهداشت و درمان گروه علمی پزشکی ب...        پزشکی         7\n",
       "1     به گزارش خبرنگار حوزه شهری گروه اجتماعی باشگاه...      اجتماعی         0\n",
       "2     به گزارش گروه اجتماعی باشگاه خبرنگاران جوان، س...      اجتماعی         0\n",
       "3     به گزارش گروه بین الملل باشگاه خبرنگاران به نق...    بین الملل         2\n",
       "4     به گزارش خبرنگار راه و شهرسازی گروه اقتصادی با...      اقتصادی         1\n",
       "...                                                 ...          ...       ...\n",
       "1475  به گزارش خبرنگارکلینیک باشگاه خبرنگاران؛ کم خو...        پزشکی         7\n",
       "1476  رضا قدیمی رئیس کمیته منابع انسانی ستاد اربعین ...      اجتماعی         0\n",
       "1477  به گزارش خبرنگار گروه علمی و دانشگاهی خبرگزاری...  علمی فناوری         4\n",
       "1478  به گزارش خبرنگار حوزه کلینیک گروه علمی پزشکی ب...        پزشکی         7\n",
       "1479  به گزارش گروه اقتصادی باشگاه خبرنگاران به نقل ...      اقتصادی         1\n",
       "\n",
       "[1480 rows x 3 columns]"
      ]
     },
     "execution_count": 7,
     "metadata": {},
     "output_type": "execute_result"
    }
   ],
   "source": [
    "dev_dataset = load_clean_dataset('persian_news/dev.csv')\n",
    "dev_dataset"
   ]
  },
  {
   "cell_type": "code",
   "execution_count": 8,
   "metadata": {
    "colab": {
     "base_uri": "https://localhost:8080/",
     "height": 423
    },
    "id": "VM9RDLtDl2Fv",
    "outputId": "ccfa029b-7b99-4ef8-c16f-0255be26fc97"
   },
   "outputs": [
    {
     "data": {
      "text/html": [
       "<div>\n",
       "<style scoped>\n",
       "    .dataframe tbody tr th:only-of-type {\n",
       "        vertical-align: middle;\n",
       "    }\n",
       "\n",
       "    .dataframe tbody tr th {\n",
       "        vertical-align: top;\n",
       "    }\n",
       "\n",
       "    .dataframe thead th {\n",
       "        text-align: right;\n",
       "    }\n",
       "</style>\n",
       "<table border=\"1\" class=\"dataframe\">\n",
       "  <thead>\n",
       "    <tr style=\"text-align: right;\">\n",
       "      <th></th>\n",
       "      <th>content</th>\n",
       "      <th>label</th>\n",
       "      <th>label_id</th>\n",
       "    </tr>\n",
       "  </thead>\n",
       "  <tbody>\n",
       "    <tr>\n",
       "      <th>0</th>\n",
       "      <td>حسن جوهرچی بازیگر سینما و تلویزیون ایران در گف...</td>\n",
       "      <td>فرهنگی هنری</td>\n",
       "      <td>5</td>\n",
       "    </tr>\n",
       "    <tr>\n",
       "      <th>1</th>\n",
       "      <td>به گزارش گروه بین الملل باشگاه خبرنگاران جوان ...</td>\n",
       "      <td>بین الملل</td>\n",
       "      <td>2</td>\n",
       "    </tr>\n",
       "    <tr>\n",
       "      <th>2</th>\n",
       "      <td>به گزارش خبرنگار فوتبال و فوتسال گروه ورزشی با...</td>\n",
       "      <td>ورزشی</td>\n",
       "      <td>6</td>\n",
       "    </tr>\n",
       "    <tr>\n",
       "      <th>3</th>\n",
       "      <td>به‌ گزارش گروه اقتصادی باشگاه خبرنگاران به نقل...</td>\n",
       "      <td>اقتصادی</td>\n",
       "      <td>1</td>\n",
       "    </tr>\n",
       "    <tr>\n",
       "      <th>4</th>\n",
       "      <td>به گزارش خبرنگار حوزه قرآن و عترت گروه فرهنگی ...</td>\n",
       "      <td>فرهنگی هنری</td>\n",
       "      <td>5</td>\n",
       "    </tr>\n",
       "    <tr>\n",
       "      <th>...</th>\n",
       "      <td>...</td>\n",
       "      <td>...</td>\n",
       "      <td>...</td>\n",
       "    </tr>\n",
       "    <tr>\n",
       "      <th>1639</th>\n",
       "      <td>طرح رجیستری که برای قانون‌مند شدن واردات موبای...</td>\n",
       "      <td>علمی فناوری</td>\n",
       "      <td>4</td>\n",
       "    </tr>\n",
       "    <tr>\n",
       "      <th>1640</th>\n",
       "      <td>به گزارش گروه بین‌الملل باشگاه خبرنگاران جوان ...</td>\n",
       "      <td>بین الملل</td>\n",
       "      <td>2</td>\n",
       "    </tr>\n",
       "    <tr>\n",
       "      <th>1641</th>\n",
       "      <td>به گزارش گروه ورزشی باشگاه خبرنگاران، مرحله یک...</td>\n",
       "      <td>ورزشی</td>\n",
       "      <td>6</td>\n",
       "    </tr>\n",
       "    <tr>\n",
       "      <th>1642</th>\n",
       "      <td>مجله شبانه باشگاه خبرنگاران؛ عطا کردی خطا کردم...</td>\n",
       "      <td>اجتماعی</td>\n",
       "      <td>0</td>\n",
       "    </tr>\n",
       "    <tr>\n",
       "      <th>1643</th>\n",
       "      <td>به گزارش حوزه مجلس گروه سیاسی باشگاه خبرنگاران...</td>\n",
       "      <td>سیاسی</td>\n",
       "      <td>3</td>\n",
       "    </tr>\n",
       "  </tbody>\n",
       "</table>\n",
       "<p>1644 rows × 3 columns</p>\n",
       "</div>"
      ],
      "text/plain": [
       "                                                content        label  label_id\n",
       "0     حسن جوهرچی بازیگر سینما و تلویزیون ایران در گف...  فرهنگی هنری         5\n",
       "1     به گزارش گروه بین الملل باشگاه خبرنگاران جوان ...    بین الملل         2\n",
       "2     به گزارش خبرنگار فوتبال و فوتسال گروه ورزشی با...        ورزشی         6\n",
       "3     به‌ گزارش گروه اقتصادی باشگاه خبرنگاران به نقل...      اقتصادی         1\n",
       "4     به گزارش خبرنگار حوزه قرآن و عترت گروه فرهنگی ...  فرهنگی هنری         5\n",
       "...                                                 ...          ...       ...\n",
       "1639  طرح رجیستری که برای قانون‌مند شدن واردات موبای...  علمی فناوری         4\n",
       "1640  به گزارش گروه بین‌الملل باشگاه خبرنگاران جوان ...    بین الملل         2\n",
       "1641  به گزارش گروه ورزشی باشگاه خبرنگاران، مرحله یک...        ورزشی         6\n",
       "1642  مجله شبانه باشگاه خبرنگاران؛ عطا کردی خطا کردم...      اجتماعی         0\n",
       "1643  به گزارش حوزه مجلس گروه سیاسی باشگاه خبرنگاران...        سیاسی         3\n",
       "\n",
       "[1644 rows x 3 columns]"
      ]
     },
     "execution_count": 8,
     "metadata": {},
     "output_type": "execute_result"
    }
   ],
   "source": [
    "test_dataset = load_clean_dataset('persian_news/test.csv')\n",
    "test_dataset"
   ]
  },
  {
   "cell_type": "code",
   "execution_count": 9,
   "metadata": {
    "colab": {
     "base_uri": "https://localhost:8080/"
    },
    "id": "N566mjrfewep",
    "outputId": "9983cfe7-20e5-420f-e335-b014d3254642"
   },
   "outputs": [
    {
     "name": "stdout",
     "output_type": "stream",
     "text": [
      "category       num\n",
      "-----------  -----\n",
      "پزشکی         1688\n",
      "ورزشی         1119\n",
      "اجتماعی       1757\n",
      "فرهنگی هنری   2072\n",
      "علمی فناوری   1973\n",
      "سیاسی         1838\n",
      "بین الملل     1600\n",
      "اقتصادی       1267\n",
      "کل           13314\n"
     ]
    }
   ],
   "source": [
    "CATEGORIES = pd.unique(train_dataset['label'])\n",
    "train_categories_list = []\n",
    "\n",
    "for category in CATEGORIES:\n",
    "    train_categories_list.append([category, len(train_dataset[train_dataset['label'] == category])])\n",
    "train_categories_list.append([\"کل\", len(train_dataset)])\n",
    "\n",
    "print(tabulate(train_categories_list, headers=['category', 'num']))"
   ]
  },
  {
   "cell_type": "code",
   "execution_count": 10,
   "metadata": {
    "colab": {
     "base_uri": "https://localhost:8080/"
    },
    "id": "lCtLekRwjH2c",
    "outputId": "19d9649a-4e42-4745-b08c-5c5d3bf063be"
   },
   "outputs": [
    {
     "name": "stdout",
     "output_type": "stream",
     "text": [
      "category       num\n",
      "-----------  -----\n",
      "پزشکی          188\n",
      "اجتماعی        196\n",
      "بین الملل      178\n",
      "اقتصادی        141\n",
      "فرهنگی هنری    230\n",
      "سیاسی          204\n",
      "ورزشی          124\n",
      "علمی فناوری    219\n",
      "کل            1480\n"
     ]
    }
   ],
   "source": [
    "CATEGORIES = pd.unique(dev_dataset['label'])\n",
    "dev_categories_list = []\n",
    "\n",
    "for category in CATEGORIES:\n",
    "    dev_categories_list.append([category, len(dev_dataset[dev_dataset['label'] == category])])\n",
    "dev_categories_list.append([\"کل\", len(dev_dataset)])\n",
    "\n",
    "print(tabulate(dev_categories_list, headers=['category', 'num']))"
   ]
  },
  {
   "cell_type": "code",
   "execution_count": 11,
   "metadata": {
    "colab": {
     "base_uri": "https://localhost:8080/"
    },
    "id": "fr0vaex4ke3Q",
    "outputId": "6010836c-1f70-4246-f48c-4513d8e2627f"
   },
   "outputs": [
    {
     "name": "stdout",
     "output_type": "stream",
     "text": [
      "category       num\n",
      "-----------  -----\n",
      "فرهنگی هنری    256\n",
      "بین الملل      197\n",
      "ورزشی          138\n",
      "اقتصادی        156\n",
      "پزشکی          209\n",
      "سیاسی          227\n",
      "علمی فناوری    244\n",
      "اجتماعی        217\n",
      "کل            1644\n"
     ]
    }
   ],
   "source": [
    "CATEGORIES = pd.unique(test_dataset['label'])\n",
    "test_categories_list = []\n",
    "\n",
    "for category in CATEGORIES:\n",
    "    test_categories_list.append([category, len(test_dataset[test_dataset['label'] == category])])\n",
    "test_categories_list.append([\"کل\", len(test_dataset)])\n",
    "\n",
    "print(tabulate(test_categories_list, headers=['category', 'num']))"
   ]
  },
  {
   "cell_type": "markdown",
   "metadata": {
    "id": "zyIKBOsvk_GM"
   },
   "source": [
    "# Preprocess"
   ]
  },
  {
   "cell_type": "code",
   "execution_count": 12,
   "metadata": {
    "id": "w71h_b7ulGAD"
   },
   "outputs": [],
   "source": [
    "class Preprocessor:\n",
    "\n",
    "    def __init__(self, stopwords_path):\n",
    "        self.stopwords = []\n",
    "        with open(stopwords_path, encoding='utf-8') as file:\n",
    "            self.stopwords = file.read().split()\n",
    "\n",
    "    def preprocess(self, text):\n",
    "        text = self.normalize(text)\n",
    "        text = self.remove_links(text)\n",
    "        text = self.remove_punctuations(text)\n",
    "        words = self.word_tokenize(text)\n",
    "        words = self.remove_invalid_words(words)\n",
    "        words = self.remove_stopwords(words)\n",
    "        return words\n",
    "\n",
    "    def normalize(self, text):\n",
    "        return hazm.Normalizer().normalize(text)\n",
    "\n",
    "    def remove_links(self, text):\n",
    "        patterns = ['\\S*http\\S*', '\\S*www\\S*', '\\S+\\.ir\\S*', '\\S+\\.com\\S*', '\\S+\\.org\\S*', '\\S*@\\S*']\n",
    "        for pattern in patterns:\n",
    "            text = re.sub(pattern, ' ', text)\n",
    "        return text\n",
    "\n",
    "    def remove_punctuations(self, text):\n",
    "        return re.sub(f'[{punctuation}؟،٪×÷»«]+', '', text)\n",
    "\n",
    "    def word_tokenize(self, text):\n",
    "        return hazm.word_tokenize(text)\n",
    "\n",
    "    def remove_invalid_words(self, words):\n",
    "        return [word for word in words if len(word) > 3 or re.match('^[\\u0600-\\u06FF]{2,3}$', word)]\n",
    "\n",
    "    def remove_stopwords(self, words):\n",
    "        return [word for word in words if word not in self.stopwords]"
   ]
  },
  {
   "cell_type": "code",
   "execution_count": 13,
   "metadata": {
    "id": "zFPDupoYognW"
   },
   "outputs": [],
   "source": [
    "def get_preprocessed_text(data, preprocessor):\n",
    "    preprocessed_contents = []\n",
    "    contents = data['content'].tolist()\n",
    "    preprocessed_contents = [preprocessor.preprocess(content) for content in tqdm(contents)]\n",
    "    return preprocessed_contents"
   ]
  },
  {
   "cell_type": "code",
   "execution_count": 14,
   "metadata": {
    "id": "S8Y3XsaBuApA"
   },
   "outputs": [],
   "source": [
    "preprocessor = Preprocessor(stopwords_path='stopwords.txt')"
   ]
  },
  {
   "cell_type": "code",
   "execution_count": 15,
   "metadata": {
    "colab": {
     "base_uri": "https://localhost:8080/"
    },
    "id": "-b41F5Y9vQ2V",
    "outputId": "9ec99261-16ba-4a75-efe1-768213d95e61"
   },
   "outputs": [
    {
     "name": "stderr",
     "output_type": "stream",
     "text": [
      "100%|████████████████████████████████████| 13314/13314 [00:36<00:00, 363.55it/s]\n"
     ]
    }
   ],
   "source": [
    "train_preprocessed_content = get_preprocessed_text(train_dataset, preprocessor)"
   ]
  },
  {
   "cell_type": "code",
   "execution_count": 17,
   "metadata": {
    "id": "PV-LhzApvesK"
   },
   "outputs": [],
   "source": [
    "with open('preprocessed_train_dataset.json', 'w') as f:\n",
    "    json.dump(train_preprocessed_content, f)"
   ]
  },
  {
   "cell_type": "code",
   "execution_count": 18,
   "metadata": {},
   "outputs": [
    {
     "name": "stderr",
     "output_type": "stream",
     "text": [
      "100%|██████████████████████████████████████| 1480/1480 [00:04<00:00, 353.21it/s]\n"
     ]
    }
   ],
   "source": [
    "dev_preprocessed_content = get_preprocessed_text(dev_dataset, preprocessor)"
   ]
  },
  {
   "cell_type": "code",
   "execution_count": 19,
   "metadata": {},
   "outputs": [],
   "source": [
    "with open('preprocessed_dev_dataset.json', 'w') as f:\n",
    "    json.dump(dev_preprocessed_content, f)"
   ]
  },
  {
   "cell_type": "code",
   "execution_count": 20,
   "metadata": {},
   "outputs": [
    {
     "name": "stderr",
     "output_type": "stream",
     "text": [
      "100%|██████████████████████████████████████| 1644/1644 [00:04<00:00, 366.82it/s]\n"
     ]
    }
   ],
   "source": [
    "test_preprocessed_content = get_preprocessed_text(test_dataset, preprocessor)"
   ]
  },
  {
   "cell_type": "code",
   "execution_count": 21,
   "metadata": {},
   "outputs": [],
   "source": [
    "with open('preprocessed_test_dataset.json', 'w') as f:\n",
    "    json.dump(test_preprocessed_content, f)"
   ]
  },
  {
   "cell_type": "markdown",
   "metadata": {
    "id": "DK-wSmLQk35f"
   },
   "source": [
    "# Document classification"
   ]
  },
  {
   "cell_type": "code",
   "execution_count": 25,
   "metadata": {},
   "outputs": [],
   "source": [
    "with open('preprocessed_train_dataset.json', 'r') as f:\n",
    "    train_preprocessed_content_loaded = json.load(f)\n",
    "\n",
    "with open('preprocessed_dev_dataset.json', 'r') as f:\n",
    "    dev_preprocessed_content_loaded = json.load(f)\n",
    "\n",
    "with open('preprocessed_test_dataset.json', 'r') as f:\n",
    "    test_preprocessed_content_loaded = json.load(f)"
   ]
  },
  {
   "cell_type": "code",
   "execution_count": 26,
   "metadata": {},
   "outputs": [],
   "source": [
    "train_dev_preprocessed_content_loaded = train_preprocessed_content_loaded + dev_preprocessed_content_loaded"
   ]
  },
  {
   "cell_type": "code",
   "execution_count": 27,
   "metadata": {
    "id": "Sa_Jthf6k-B5"
   },
   "outputs": [],
   "source": [
    "class TF_IDF:\n",
    "\n",
    "    def __init__(self):\n",
    "        self.vectorizer = TfidfVectorizer()\n",
    "\n",
    "    def fit_vectorizer(self, data):\n",
    "        self.vectorizer.fit(list(map(lambda doc: ' '.join(doc), data)))\n",
    "    \n",
    "    def transform_vectorizer(self, preprocessed_title, preprocessed_texts):\n",
    "        embeddings = []\n",
    "        for title, text in zip(preprocessed_title, preprocessed_texts):\n",
    "            emb_title = self.vectorizer.transform([' '.join(title)]).toarray()[0]\n",
    "            emb_text = self.vectorizer.transform([' '.join(text)]).toarray()[0]\n",
    "            embeddings.append(((emb_text * 19) + emb_title) / 20)\n",
    "        return embeddings\n",
    "\n",
    "    def save_TF_IDF_model(self, path=\"TF_IDF_model.pickle\"):\n",
    "        with open(path, \"wb\") as file:\n",
    "            pickle.dump(self.vectors.todense().tolist(), file)\n",
    "\n",
    "    def load_TF_IDF_model(self, path=\"TF_IDF_model.pickle\"):\n",
    "        with open(path, \"rb\") as file:\n",
    "            return pickle.load(file)"
   ]
  },
  {
   "cell_type": "code",
   "execution_count": null,
   "metadata": {},
   "outputs": [],
   "source": [
    "TF_IDF_model = TF_IDF()\n",
    "TF_IDF_model.fit_vectorizer(train_dev_preprocessed_content_loaded)"
   ]
  },
  {
   "cell_type": "markdown",
   "metadata": {
    "id": "Ux2M44vWUhXB"
   },
   "source": [
    "# Token Classification"
   ]
  }
 ],
 "metadata": {
  "colab": {
   "provenance": []
  },
  "kernelspec": {
   "display_name": "Python 3 (ipykernel)",
   "language": "python",
   "name": "python3"
  },
  "language_info": {
   "codemirror_mode": {
    "name": "ipython",
    "version": 3
   },
   "file_extension": ".py",
   "mimetype": "text/x-python",
   "name": "python",
   "nbconvert_exporter": "python",
   "pygments_lexer": "ipython3",
   "version": "3.9.12"
  }
 },
 "nbformat": 4,
 "nbformat_minor": 1
}
